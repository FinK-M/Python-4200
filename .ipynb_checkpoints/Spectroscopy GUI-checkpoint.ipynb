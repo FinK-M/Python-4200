{
 "cells": [
  {
   "cell_type": "markdown",
   "metadata": {},
   "source": [
    "# Creating a Rich GUI in the IPython Notebook\n",
    "Based on [this thread](http://python.6.x6.nabble.com/Feasilibity-of-widgets-layout-for-mimicking-this-tc5068197.html).\n",
    "\n",
    "- What is the main idea? _or..._\n",
    "  - What would you someone else want to embed/reuse?\n",
    "- What can you make easy to customize?\n",
    "  - The controls\n",
    "  - The main view\n",
    "- How far can you push the traitlets system?\n",
    "  - Things that don't serialize to JSON might not work very well: arbitrary Python code.\n",
    " \n",
    "> NOTE: This is built for the Notebook in IPython [3.0/master](https://github.com/ipython/ipython/tree/master)"
   ]
  },
  {
   "cell_type": "code",
   "execution_count": 1,
   "metadata": {
    "collapsed": false
   },
   "outputs": [
    {
     "name": "stderr",
     "output_type": "stream",
     "text": [
      ":0: FutureWarning: IPython widgets are experimental and may change in the future.\n"
     ]
    }
   ],
   "source": [
    "from IPython.html.widgets import (\n",
    "    FlexBox, VBox, HBox, HTML, Box, RadioButtons,\n",
    "    FloatText, Dropdown, Checkbox, Image, IntSlider, Button,\n",
    ")\n",
    "from IPython.utils.traitlets import (\n",
    "    link, Unicode, Float, Int, Enum, Bool,\n",
    ")"
   ]
  },
  {
   "cell_type": "markdown",
   "metadata": {},
   "source": [
    "Use [`OrderedDict`](https://docs.python.org/2/library/collections.html#collections.OrderedDict) for predictable display of key-value pairs."
   ]
  },
  {
   "cell_type": "code",
   "execution_count": 2,
   "metadata": {
    "collapsed": false
   },
   "outputs": [],
   "source": [
    "from collections import OrderedDict"
   ]
  },
  {
   "cell_type": "markdown",
   "metadata": {},
   "source": [
    "CSS helps keep your code concise, as well as make it easier to extend/override."
   ]
  },
  {
   "cell_type": "code",
   "execution_count": 3,
   "metadata": {
    "collapsed": false
   },
   "outputs": [
    {
     "data": {
      "text/html": [
       "<style>\n",
       "/*\n",
       "    This contents of this would go in a separate CSS file.\n",
       "\n",
       "    Note the namespacing: this is important for two reasons.\n",
       "    1) doesn't pollute the global namespace\n",
       "    2) is _more specific_ than the base styles.\n",
       "*/\n",
       "\n",
       ".widget-area .spectroscopy .panel-body{\n",
       "    padding: 0;\n",
       "}\n",
       ".widget-area .spectroscopy .widget-numeric-text{\n",
       "    width: 5em;\n",
       "}\n",
       ".widget-area .spectroscopy .widget-box.start{\n",
       "    margin-left: 0;\n",
       "}\n",
       ".widget-area .spectroscopy .widget-hslider{\n",
       "    width: 12em;\n",
       "}\n",
       "    \n",
       "</style>"
      ],
      "text/plain": [
       "<IPython.core.display.HTML object>"
      ]
     },
     "metadata": {},
     "output_type": "display_data"
    }
   ],
   "source": [
    "%%html\n",
    "<style>\n",
    "/*\n",
    "    This contents of this would go in a separate CSS file.\n",
    "\n",
    "    Note the namespacing: this is important for two reasons.\n",
    "    1) doesn't pollute the global namespace\n",
    "    2) is _more specific_ than the base styles.\n",
    "*/\n",
    "\n",
    ".widget-area .spectroscopy .panel-body{\n",
    "    padding: 0;\n",
    "}\n",
    ".widget-area .spectroscopy .widget-numeric-text{\n",
    "    width: 5em;\n",
    "}\n",
    ".widget-area .spectroscopy .widget-box.start{\n",
    "    margin-left: 0;\n",
    "}\n",
    ".widget-area .spectroscopy .widget-hslider{\n",
    "    width: 12em;\n",
    "}\n",
    "    \n",
    "</style>"
   ]
  },
  {
   "cell_type": "markdown",
   "metadata": {},
   "source": [
    "These few classes wrap up some [Bootstrap components](http://getbootstrap.com/components/): these will be more consistent then coding up your own."
   ]
  },
  {
   "cell_type": "code",
   "execution_count": 4,
   "metadata": {
    "collapsed": false
   },
   "outputs": [],
   "source": [
    "class PanelTitle(HTML):\n",
    "    def __init__(self, *args, **kwargs):\n",
    "        super(PanelTitle, self).__init__(*args, **kwargs)\n",
    "        self.on_displayed(self.displayed)\n",
    "    def displayed(self, _):\n",
    "        self.add_class(\"panel-heading panel-title\")\n",
    "\n",
    "class PanelBody(Box):\n",
    "    def __init__(self, *args, **kwargs):\n",
    "        super(PanelBody, self).__init__(*args, **kwargs)\n",
    "        self.on_displayed(self.displayed)\n",
    "    def displayed(self, _):\n",
    "        self.add_class(\"panel-body\")\n",
    "\n",
    "class ControlPanel(Box):\n",
    "    # A set of related controls, with an optional title, in a box (provided by CSS)\n",
    "    def __init__(self, title=None, *args, **kwargs):\n",
    "        super(ControlPanel, self).__init__(*args, **kwargs)\n",
    "        \n",
    "        # add an option title widget\n",
    "        if title is not None:\n",
    "            \n",
    "            self.children = [\n",
    "                PanelTitle(value=title),\n",
    "                PanelBody(children=self.children)\n",
    "            ]\n",
    "\n",
    "        self.on_displayed(self.displayed)\n",
    "    \n",
    "    def displayed(self, _):\n",
    "        self.add_class(\"panel panel-info\")"
   ]
  },
  {
   "cell_type": "markdown",
   "metadata": {},
   "source": [
    "This notional `Spectrogram` shows how one might make a widget that redraws based on the state of its data. By defining its external API, including allowed and default values, in the form of [linked traitlets](http://ipython.org/ipython-doc/dev/api/generated/IPython.utils.traitlets.html#IPython.utils.traitlets.link), it can be reused without replumbing any events, while a few simple methods like `draw` make sure it is still easy to use in a programmatic way."
   ]
  },
  {
   "cell_type": "code",
   "execution_count": 5,
   "metadata": {
    "collapsed": false
   },
   "outputs": [
    {
     "ename": "TypeError",
     "evalue": "'ValuesView' object does not support indexing",
     "output_type": "error",
     "traceback": [
      "\u001b[1;31m---------------------------------------------------------------------------\u001b[0m",
      "\u001b[1;31mTypeError\u001b[0m                                 Traceback (most recent call last)",
      "\u001b[1;32m<ipython-input-5-8041541359c4>\u001b[0m in \u001b[0;36m<module>\u001b[1;34m()\u001b[0m\n\u001b[0;32m      2\u001b[0m \u001b[1;32mfrom\u001b[0m \u001b[0mdatetime\u001b[0m \u001b[1;32mimport\u001b[0m \u001b[0mdatetime\u001b[0m\u001b[1;33m\u001b[0m\u001b[0m\n\u001b[0;32m      3\u001b[0m \u001b[1;33m\u001b[0m\u001b[0m\n\u001b[1;32m----> 4\u001b[1;33m \u001b[1;32mclass\u001b[0m \u001b[0mSpectrogram\u001b[0m\u001b[1;33m(\u001b[0m\u001b[0mHTML\u001b[0m\u001b[1;33m)\u001b[0m\u001b[1;33m:\u001b[0m\u001b[1;33m\u001b[0m\u001b[0m\n\u001b[0m\u001b[0;32m      5\u001b[0m     \"\"\"\n\u001b[0;32m      6\u001b[0m     \u001b[0mA\u001b[0m \u001b[0mnotional\u001b[0m \u001b[1;34m\"complex widget\"\u001b[0m \u001b[0mthat\u001b[0m \u001b[0mknows\u001b[0m \u001b[0mhow\u001b[0m \u001b[0mto\u001b[0m \u001b[0mredraw\u001b[0m \u001b[0mitself\u001b[0m \u001b[0mwhen\u001b[0m \u001b[0mkey\u001b[0m \u001b[0mproperties\u001b[0m \u001b[0mchange\u001b[0m\u001b[1;33m.\u001b[0m\u001b[1;33m\u001b[0m\u001b[0m\n",
      "\u001b[1;32m<ipython-input-5-8041541359c4>\u001b[0m in \u001b[0;36mSpectrogram\u001b[1;34m()\u001b[0m\n\u001b[0;32m     16\u001b[0m \u001b[1;33m\u001b[0m\u001b[0m\n\u001b[0;32m     17\u001b[0m     \u001b[1;31m# pass-through traitlets\u001b[0m\u001b[1;33m\u001b[0m\u001b[1;33m\u001b[0m\u001b[0m\n\u001b[1;32m---> 18\u001b[1;33m     \u001b[0mcorrelation\u001b[0m \u001b[1;33m=\u001b[0m \u001b[0mEnum\u001b[0m\u001b[1;33m(\u001b[0m\u001b[0mCORRELATION\u001b[0m\u001b[1;33m.\u001b[0m\u001b[0mvalues\u001b[0m\u001b[1;33m(\u001b[0m\u001b[1;33m)\u001b[0m\u001b[1;33m,\u001b[0m \u001b[0mdefault_value\u001b[0m\u001b[1;33m=\u001b[0m\u001b[0mCORRELATION\u001b[0m\u001b[1;33m.\u001b[0m\u001b[0mvalues\u001b[0m\u001b[1;33m(\u001b[0m\u001b[1;33m)\u001b[0m\u001b[1;33m[\u001b[0m\u001b[1;36m0\u001b[0m\u001b[1;33m]\u001b[0m\u001b[1;33m,\u001b[0m \u001b[0msync\u001b[0m\u001b[1;33m=\u001b[0m\u001b[1;32mTrue\u001b[0m\u001b[1;33m)\u001b[0m\u001b[1;33m\u001b[0m\u001b[0m\n\u001b[0m\u001b[0;32m     19\u001b[0m     \u001b[0mdraw_mode\u001b[0m \u001b[1;33m=\u001b[0m \u001b[0mEnum\u001b[0m\u001b[1;33m(\u001b[0m\u001b[0mDRAW_MODE\u001b[0m\u001b[1;33m.\u001b[0m\u001b[0mvalues\u001b[0m\u001b[1;33m(\u001b[0m\u001b[1;33m)\u001b[0m\u001b[1;33m,\u001b[0m \u001b[0mdefault_value\u001b[0m\u001b[1;33m=\u001b[0m\u001b[0mDRAW_MODE\u001b[0m\u001b[1;33m.\u001b[0m\u001b[0mvalues\u001b[0m\u001b[1;33m(\u001b[0m\u001b[1;33m)\u001b[0m\u001b[1;33m[\u001b[0m\u001b[1;36m0\u001b[0m\u001b[1;33m]\u001b[0m\u001b[1;33m,\u001b[0m \u001b[0msync\u001b[0m\u001b[1;33m=\u001b[0m\u001b[1;32mTrue\u001b[0m\u001b[1;33m)\u001b[0m\u001b[1;33m\u001b[0m\u001b[0m\n\u001b[0;32m     20\u001b[0m \u001b[1;33m\u001b[0m\u001b[0m\n",
      "\u001b[1;31mTypeError\u001b[0m: 'ValuesView' object does not support indexing"
     ]
    }
   ],
   "source": [
    "import re\n",
    "from datetime import datetime\n",
    "\n",
    "class Spectrogram(HTML):\n",
    "    \"\"\"\n",
    "    A notional \"complex widget\" that knows how to redraw itself when key properties change.\n",
    "    \"\"\"\n",
    "    # Utility\n",
    "    DONT_DRAW = re.compile(r'^(_.+|value|keys|comm|children|visible|parent|log|config|msg_throttle)$')\n",
    "    \n",
    "    # Lookup tables: this would be a nice place to add i18n, perhaps\n",
    "    CORRELATION = OrderedDict([(x, x) for x in [\"synchronous\", \"asynchronous\", \"modulus\", \"argument\"]])    \n",
    "    DRAW_MODE = OrderedDict([(x, x) for x in [\"color\", \"black & white\", \"contour\"]])    \n",
    "    SPECTRUM_SCALE = OrderedDict([(x, x) for x in [\"auto\", \"manual\"]])\n",
    "    SPECTRUM_DIRECTIONS = OrderedDict([(x, x) for x in [\"left\", \"right\", \"bottom\", \"top\"]])\n",
    "    \n",
    "    # pass-through traitlets\n",
    "    correlation = Enum(CORRELATION.values(), default_value=CORRELATION.values()[0], sync=True)\n",
    "    draw_mode = Enum(DRAW_MODE.values(), default_value=DRAW_MODE.values()[0], sync=True)\n",
    "    \n",
    "    spectrum_direction_left = Float(1000, sync=True)\n",
    "    spectrum_direction_right = Float(1000, sync=True)\n",
    "    spectrum_direction_bottom = Float(1000, sync=True)\n",
    "    spectrum_direction_top = Float(1000, sync=True)\n",
    "    \n",
    "    spectrum_contours = Int(4, sync=True)\n",
    "    spectrum_zmax = Float(0.0566468618, sync=True)\n",
    "    spectrum_scale = Enum(SPECTRUM_SCALE, default_value=SPECTRUM_SCALE.values()[0], sync=True)\n",
    "\n",
    "    axis_x = Float(50, sync=True)\n",
    "    axis_y = Float(50, sync=True)\n",
    "    axis_display = Bool(True, sync=True)\n",
    "    \n",
    "    def __init__(self, *args, **kwargs):\n",
    "        \"\"\"\n",
    "        Creates a spectrogram\n",
    "        \"\"\"\n",
    "        super(Spectrogram, self).__init__(*args, **kwargs)\n",
    "        self.on_trait_change(lambda name, old, new: self.draw(name, old, new))\n",
    "        self.on_displayed(self.displayed)\n",
    "\n",
    "    def displayed(self, _):\n",
    "        self.add_class(\"col-xs-9\")\n",
    "        self.draw()\n",
    "    \n",
    "    def draw(self, name=None, old=None, new=None):\n",
    "        if name is not None and self.DONT_DRAW.match(name):\n",
    "            return\n",
    "        \n",
    "        value = \"<h2>Imagine a picture here, drawn with...</h2>\"\n",
    "\n",
    "        if name is None:\n",
    "            value += '<div class=\"alert alert-info\">redraw forced at %s!</div>' % (\n",
    "                datetime.now().isoformat(' ')\n",
    "            )\n",
    "        \n",
    "        value += \"\\n\".join([\n",
    "            '<p><span class=\"label label-%s\">%s</span> %s</p>' % (\n",
    "                'success' if traitlet == name else 'default',\n",
    "                traitlet,\n",
    "                getattr(self, traitlet)\n",
    "            )\n",
    "            for traitlet in sorted(self.trait_names())\n",
    "            if not self.DONT_DRAW.match(traitlet)\n",
    "        ])\n",
    "        self.value = value"
   ]
  },
  {
   "cell_type": "markdown",
   "metadata": {},
   "source": [
    "The actual GUI. Note that the individual components of the view are responsible for:\n",
    "- creating widgets\n",
    "- linking to the graph widget"
   ]
  },
  {
   "cell_type": "code",
   "execution_count": 6,
   "metadata": {
    "collapsed": false
   },
   "outputs": [],
   "source": [
    "class Spectroscopy(Box):\n",
    "    \"\"\"\n",
    "    An example GUI for a spectroscopy application.\n",
    "    \n",
    "    Note that `self.graph` is the owner of all of the \"real\" data, while this\n",
    "    class handles creating all of the GUI controls and links. This ensures\n",
    "    that the Graph itself remains embeddable and rem\n",
    "    \"\"\"\n",
    "    def __init__(self, graph=None, graph_config=None, *args, **kwargs):\n",
    "        self.graph = graph or Spectrogram(**(graph_config or {}))\n",
    "        # Create a GUI\n",
    "        kwargs[\"orientation\"] = 'horizontal'\n",
    "        kwargs[\"children\"] = [\n",
    "            self._controls(),\n",
    "            VBox(children=[\n",
    "                self._actions(),\n",
    "                self.graph\n",
    "            ])\n",
    "        ]\n",
    "        super(Spectroscopy, self).__init__(*args, **kwargs)\n",
    "        \n",
    "        self.on_displayed(self.displayed)\n",
    "\n",
    "    def displayed(self, _):\n",
    "        # namespace and top-level bootstrap\n",
    "        self.add_class(\"spectroscopy row\")\n",
    "    \n",
    "    def _actions(self):\n",
    "        redraw = Button(description=\"Redraw\")\n",
    "        redraw.on_click(lambda x: self.graph.draw())\n",
    "        return HBox(children=[redraw])\n",
    "    \n",
    "    def _controls(self):\n",
    "        panels = VBox(children=[\n",
    "            HBox(children=[\n",
    "                self._correlation(),\n",
    "                self._draw_mode(),\n",
    "            ]),\n",
    "            self._spectrum(),\n",
    "            self._axes()\n",
    "        ])\n",
    "        panels.on_displayed(lambda x: panels.add_class(\"col-xs-3\"))\n",
    "        return panels\n",
    "    \n",
    "    def _correlation(self):\n",
    "        # create correlation controls. NOTE: should only be called once.\n",
    "        radios = RadioButtons(values=self.graph.CORRELATION)\n",
    "        link((self.graph, \"correlation\"), (radios, \"value\"))\n",
    "        return ControlPanel(title=\"correlation\", children=[radios])\n",
    "\n",
    "    def _draw_mode(self):\n",
    "        # create draw mode controls.  NOTE: should only be called once.\n",
    "        radios = RadioButtons(values=self.graph.DRAW_MODE)\n",
    "        link((self.graph, \"draw_mode\"), (radios, \"value\"))\n",
    "        return ControlPanel(title=\"draw\", children=[radios])\n",
    "\n",
    "    def _spectrum(self):\n",
    "        # create spectrum controls.  NOTE: should only be called once.\n",
    "        directions = []\n",
    "        \n",
    "        for label in self.graph.SPECTRUM_DIRECTIONS:\n",
    "            direction = FloatText(description=label, value=1000.0)\n",
    "            link((self.graph, \"spectrum_direction_\" + label), (direction, \"value\"))\n",
    "            directions.append(direction)\n",
    "        \n",
    "        direction_rows = [HBox(children=directions[x::2]) for x in range(2)]\n",
    "        \n",
    "        contour = IntSlider(description=\"contours\", min=1)\n",
    "        link((self.graph, \"spectrum_contours\"), (contour, \"value\"))\n",
    "\n",
    "        zmax = FloatText(description=\"z-max\")\n",
    "        link((self.graph, \"spectrum_zmax\"), (zmax, \"value\"))\n",
    "        \n",
    "        scale = RadioButtons(description=\"scale\", values=self.graph.SPECTRUM_SCALE)\n",
    "        link((self.graph, \"spectrum_scale\"), (scale, \"value\"))\n",
    "        \n",
    "        return ControlPanel(title=\"spectrum\",\n",
    "            children=direction_rows + [\n",
    "                contour,\n",
    "                zmax,\n",
    "                scale\n",
    "            ]\n",
    "        )\n",
    "    \n",
    "    def _axes(self):\n",
    "        # create spectrum controls.  NOTE: should only be called once.\n",
    "        axis_x = FloatText(description=\"X div.\")\n",
    "        link((self.graph, \"axis_x\"), (axis_x, \"value\"))\n",
    "        \n",
    "        axis_y = FloatText(description=\"Y div.\")\n",
    "        link((self.graph, \"axis_y\"), (axis_y, \"value\"))\n",
    "        \n",
    "        axes = HBox(children=[axis_x, axis_y])\n",
    "\n",
    "        axis_display = Checkbox(description=\"display\")\n",
    "        link((self.graph, \"axis_display\"), (axis_display, \"value\"))\n",
    "        \n",
    "        return ControlPanel(title=\"axes\",\n",
    "            children=[\n",
    "                axis_display,\n",
    "                axes\n",
    "            ]\n",
    "        )"
   ]
  },
  {
   "cell_type": "markdown",
   "metadata": {},
   "source": [
    "Hooray, everything is defined, now we can try this out!"
   ]
  },
  {
   "cell_type": "code",
   "execution_count": 7,
   "metadata": {
    "collapsed": false
   },
   "outputs": [
    {
     "ename": "NameError",
     "evalue": "name 'Spectrogram' is not defined",
     "output_type": "error",
     "traceback": [
      "\u001b[1;31m---------------------------------------------------------------------------\u001b[0m",
      "\u001b[1;31mNameError\u001b[0m                                 Traceback (most recent call last)",
      "\u001b[1;32m<ipython-input-7-359bbc002772>\u001b[0m in \u001b[0;36m<module>\u001b[1;34m()\u001b[0m\n\u001b[1;32m----> 1\u001b[1;33m \u001b[0mspectrogram\u001b[0m \u001b[1;33m=\u001b[0m \u001b[0mSpectrogram\u001b[0m\u001b[1;33m(\u001b[0m\u001b[1;33m)\u001b[0m\u001b[1;33m\u001b[0m\u001b[0m\n\u001b[0m\u001b[0;32m      2\u001b[0m \u001b[0mspectrogram\u001b[0m\u001b[1;33m\u001b[0m\u001b[0m\n",
      "\u001b[1;31mNameError\u001b[0m: name 'Spectrogram' is not defined"
     ]
    }
   ],
   "source": [
    "spectrogram = Spectrogram()\n",
    "spectrogram"
   ]
  },
  {
   "cell_type": "markdown",
   "metadata": {},
   "source": [
    "Its traits can be updated directly, causing immediate update:"
   ]
  },
  {
   "cell_type": "code",
   "execution_count": null,
   "metadata": {
    "collapsed": false
   },
   "outputs": [],
   "source": [
    "spectrogram.axis_display = False"
   ]
  },
  {
   "cell_type": "markdown",
   "metadata": {},
   "source": [
    "The graph can be passed directly to the interactive GUI, sharing the same data between the two views."
   ]
  },
  {
   "cell_type": "code",
   "execution_count": null,
   "metadata": {
    "collapsed": false
   },
   "outputs": [],
   "source": [
    "gui = Spectroscopy(graph=spectrogram)\n",
    "gui"
   ]
  }
 ],
 "metadata": {
  "kernelspec": {
   "display_name": "Python 3",
   "language": "python",
   "name": "python3"
  },
  "language_info": {
   "codemirror_mode": {
    "name": "ipython",
    "version": 3
   },
   "file_extension": ".py",
   "mimetype": "text/x-python",
   "name": "python",
   "nbconvert_exporter": "python",
   "pygments_lexer": "ipython3",
   "version": "3.4.1"
  }
 },
 "nbformat": 4,
 "nbformat_minor": 0
}
