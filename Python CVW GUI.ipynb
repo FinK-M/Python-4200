{
 "cells": [
  {
   "cell_type": "code",
   "execution_count": 1,
   "metadata": {
    "collapsed": false
   },
   "outputs": [
    {
     "name": "stderr",
     "output_type": "stream",
     "text": [
      ":0: FutureWarning: IPython widgets are experimental and may change in the future.\n"
     ]
    }
   ],
   "source": [
    "%matplotlib inline\n",
    "import libs.Python_4200 as p42\n",
    "from __future__ import print_function\n",
    "from IPython.html.widgets import interact, interactive, fixed\n",
    "from IPython.html import widgets\n",
    "from IPython.display import display"
   ]
  },
  {
   "cell_type": "markdown",
   "metadata": {},
   "source": [
    "Python CVW GUI\n",
    "======="
   ]
  },
  {
   "cell_type": "markdown",
   "metadata": {},
   "source": [
    "This notebook serves as a GUI front end for the Python 4200 Library.\n",
    "\n",
    "First we create a new test routine."
   ]
  },
  {
   "cell_type": "code",
   "execution_count": 2,
   "metadata": {
    "collapsed": true
   },
   "outputs": [],
   "source": [
    "cv_tests = []\n",
    "cv_tests.append(p42.cv_test(\"test\"))"
   ]
  },
  {
   "cell_type": "code",
   "execution_count": 3,
   "metadata": {
    "collapsed": false
   },
   "outputs": [],
   "source": [
    "vstep_slider = widgets.FloatSlider(min=0.1, max=2, step=0.1, value=1)\n",
    "vstart_slider = widgets.IntSlider(min=-30, max=30, value=-5)\n",
    "vend_slider = widgets.IntSlider(min=-30, max=30, value=5)\n",
    "\n",
    "wstep_slider = widgets.IntSlider(min=50, max=500, step=50, value=200)\n",
    "wstart_slider = widgets.IntSlider(min=3000, max=8000, step=100, value=4000)\n",
    "wend_slider = widgets.IntSlider(min=3000, max=8000, step=100, value=6000)\n",
    "\n",
    "start_button = widgets.Button(description=\"Run test\")\n",
    "\n",
    "length_menu = widgets.Dropdown(options=[\"0\", \"1.5\", \"3\"], description=\"Cable Length\")\n",
    "\n",
    "single_w = widgets.Checkbox(description=\"Single Wavelength:\", value=False)\n",
    "single_w_slider = widgets.IntSlider(description=\"Wavelength\",min=300, max=8000, step=100, value=5500)\n",
    "\n",
    "def sw(x):\n",
    "    cv_tests[0].single_w_val=x\n",
    "\n",
    "def sl(l):\n",
    "    cv_tests[0].length=l\n",
    "\n",
    "vstep_slider.description = \"Voltage Step\"\n",
    "vstart_slider.description = \"Start Voltage\"\n",
    "vend_slider.description = \"End Voltage \"\n",
    "\n",
    "wstep_slider.description = \"Wavelength Step\"\n",
    "wstart_slider.description = \"Start Wavelength\"\n",
    "wend_slider.description = \"End Wavelength\"\n",
    "\n",
    "v1 = widgets.interactive(cv_tests[0].set_vrange, vstart=vstart_slider, vend=vend_slider, vstep=vstep_slider)\n",
    "\n",
    "w1 = widgets.interactive(cv_tests[0].set_wavelengths, wstart=wstart_slider, wend=wend_slider, wstep=wstep_slider)\n",
    "w2 = widgets.interactive(sw, x=single_w_slider)\n",
    "\n",
    "l1 =widgets.interactive(sl, l=length_menu)\n",
    "\n",
    "page1 = widgets.Box(children=[v1])\n",
    "page2 = widgets.Box(children=[single_w, w1, w2])\n",
    "page3 = widgets.HBox(children=[length_menu])\n",
    "\n",
    "tabs = widgets.Tab(children=[page1, page2, page3])\n",
    "\n",
    "display(tabs)\n",
    "display(start_button)\n",
    "tabs.set_title(0, 'Voltage Range')\n",
    "tabs.set_title(1, 'Wavelength Range')\n",
    "tabs.set_title(2, 'Compensations')\n",
    "\n",
    "w1.visible=True\n",
    "w2.visible=False\n",
    "\n",
    "def one_or_many(name, value):\n",
    "    if value:\n",
    "        w1.visible = False\n",
    "        w2.visible = True\n",
    "        cv_test[0].wrange_set = False\n",
    "        \n",
    "    else:\n",
    "        w1.visible = True\n",
    "        w2.visible = False\n",
    "        cv_test[0].wrange_set = True\n",
    "started = False\n",
    "def start_test(name):\n",
    "    if not started:\n",
    "        cv_tests[0].run_test()\n",
    "        \n",
    "single_w.on_trait_change(one_or_many, 'value')\n",
    "start_button.on_click(start_test)"
   ]
  },
  {
   "cell_type": "code",
   "execution_count": null,
   "metadata": {
    "collapsed": true
   },
   "outputs": [],
   "source": []
  },
  {
   "cell_type": "code",
   "execution_count": null,
   "metadata": {
    "collapsed": true
   },
   "outputs": [],
   "source": []
  }
 ],
 "metadata": {
  "kernelspec": {
   "display_name": "Python 3",
   "language": "python",
   "name": "python3"
  },
  "language_info": {
   "codemirror_mode": {
    "name": "ipython",
    "version": 3
   },
   "file_extension": ".py",
   "mimetype": "text/x-python",
   "name": "python",
   "nbconvert_exporter": "python",
   "pygments_lexer": "ipython3",
   "version": "3.4.1"
  }
 },
 "nbformat": 4,
 "nbformat_minor": 0
}
