{
 "cells": [
  {
   "cell_type": "markdown",
   "metadata": {},
   "source": [
    "Python CVW GUI\n",
    "======="
   ]
  },
  {
   "cell_type": "markdown",
   "metadata": {},
   "source": [
    "This notebook serves as a GUI front end for the Python 4200 Library.\n",
    "\n",
    "First we create a new test routine."
   ]
  },
  {
   "cell_type": "code",
   "execution_count": 1,
   "metadata": {
    "collapsed": false
   },
   "outputs": [
    {
     "name": "stderr",
     "output_type": "stream",
     "text": [
      ":0: FutureWarning: IPython widgets are experimental and may change in the future.\n"
     ]
    }
   ],
   "source": [
    "%matplotlib inline\n",
    "import libs.Python_4200 as p42\n",
    "import serial\n",
    "from __future__ import print_function\n",
    "from IPython.html.widgets import interact, interactive, fixed\n",
    "from IPython.html import widgets\n",
    "from IPython.display import display, clear_output\n",
    "from time import sleep"
   ]
  },
  {
   "cell_type": "code",
   "execution_count": 4,
   "metadata": {
    "collapsed": false
   },
   "outputs": [
    {
     "data": {
      "image/png": "[encoded data removed]",
      "text/plain": [
       "<matplotlib.figure.Figure at 0x2271358>"
      ]
     },
     "metadata": {},
     "output_type": "display_data"
    },
    {
     "ename": "InvalidSession",
     "evalue": "Invalid session handle. The resource might be closed.",
     "output_type": "error",
     "traceback": [
      "\u001b[1;31m---------------------------------------------------------------------------\u001b[0m",
      "\u001b[1;31mInvalidSession\u001b[0m                            Traceback (most recent call last)",
      "\u001b[1;32m<ipython-input-4-8f8452ec2498>\u001b[0m in \u001b[0;36mstart_test\u001b[1;34m(name)\u001b[0m\n\u001b[0;32m     87\u001b[0m     \u001b[1;32mif\u001b[0m \u001b[1;32mnot\u001b[0m \u001b[0mstarted\u001b[0m\u001b[1;33m:\u001b[0m\u001b[1;33m\u001b[0m\u001b[0m\n\u001b[0;32m     88\u001b[0m         \u001b[0mcv_tests\u001b[0m\u001b[1;33m[\u001b[0m\u001b[1;36m0\u001b[0m\u001b[1;33m]\u001b[0m\u001b[1;33m.\u001b[0m\u001b[0mtest_setup\u001b[0m \u001b[1;33m=\u001b[0m \u001b[1;32mFalse\u001b[0m\u001b[1;33m\u001b[0m\u001b[0m\n\u001b[1;32m---> 89\u001b[1;33m         \u001b[0mcv_tests\u001b[0m\u001b[1;33m[\u001b[0m\u001b[1;36m0\u001b[0m\u001b[1;33m]\u001b[0m\u001b[1;33m.\u001b[0m\u001b[0mrun_test\u001b[0m\u001b[1;33m(\u001b[0m\u001b[1;33m)\u001b[0m\u001b[1;33m\u001b[0m\u001b[0m\n\u001b[0m\u001b[0;32m     90\u001b[0m \u001b[1;33m\u001b[0m\u001b[0m\n\u001b[0;32m     91\u001b[0m \u001b[0msingle_w\u001b[0m\u001b[1;33m.\u001b[0m\u001b[0mon_trait_change\u001b[0m\u001b[1;33m(\u001b[0m\u001b[0mone_or_many\u001b[0m\u001b[1;33m,\u001b[0m \u001b[1;34m'value'\u001b[0m\u001b[1;33m)\u001b[0m\u001b[1;33m\u001b[0m\u001b[0m\n",
      "\u001b[1;32mC:\\Users\\APD-Lab\\Documents\\Finlay KM\\Python-4200\\libs\\Python_4200.py\u001b[0m in \u001b[0;36mrun_test\u001b[1;34m(self)\u001b[0m\n\u001b[0;32m    371\u001b[0m \u001b[1;33m\u001b[0m\u001b[0m\n\u001b[0;32m    372\u001b[0m         \u001b[1;32mif\u001b[0m \u001b[1;32mnot\u001b[0m \u001b[0mself\u001b[0m\u001b[1;33m.\u001b[0m\u001b[0mtest_setup\u001b[0m\u001b[1;33m:\u001b[0m\u001b[1;33m\u001b[0m\u001b[0m\n\u001b[1;32m--> 373\u001b[1;33m             \u001b[0mself\u001b[0m\u001b[1;33m.\u001b[0m\u001b[0msetup_test\u001b[0m\u001b[1;33m(\u001b[0m\u001b[1;33m)\u001b[0m\u001b[1;33m\u001b[0m\u001b[0m\n\u001b[0m\u001b[0;32m    374\u001b[0m \u001b[1;33m\u001b[0m\u001b[0m\n\u001b[0;32m    375\u001b[0m         \u001b[0mself\u001b[0m\u001b[1;33m.\u001b[0m\u001b[0mprim\u001b[0m \u001b[1;33m=\u001b[0m \u001b[1;33m[\u001b[0m\u001b[1;33m]\u001b[0m\u001b[1;33m\u001b[0m\u001b[0m\n",
      "\u001b[1;32mC:\\Users\\APD-Lab\\Documents\\Finlay KM\\Python-4200\\libs\\Python_4200.py\u001b[0m in \u001b[0;36msetup_test\u001b[1;34m(self)\u001b[0m\n\u001b[0;32m    321\u001b[0m         \u001b[0mself\u001b[0m\u001b[1;33m.\u001b[0m\u001b[0mset_intrument\u001b[0m\u001b[1;33m(\u001b[0m\u001b[1;33m)\u001b[0m\u001b[1;33m\u001b[0m\u001b[0m\n\u001b[0;32m    322\u001b[0m         \u001b[1;32mfor\u001b[0m \u001b[0mc\u001b[0m \u001b[1;32min\u001b[0m \u001b[0mself\u001b[0m\u001b[1;33m.\u001b[0m\u001b[0mcommands\u001b[0m\u001b[1;33m:\u001b[0m\u001b[1;33m\u001b[0m\u001b[0m\n\u001b[1;32m--> 323\u001b[1;33m             \u001b[0mself\u001b[0m\u001b[1;33m.\u001b[0m\u001b[0minstr\u001b[0m\u001b[1;33m.\u001b[0m\u001b[0mwrite\u001b[0m\u001b[1;33m(\u001b[0m\u001b[0mc\u001b[0m\u001b[1;33m)\u001b[0m\u001b[1;33m\u001b[0m\u001b[0m\n\u001b[0m\u001b[0;32m    324\u001b[0m \u001b[1;33m\u001b[0m\u001b[0m\n\u001b[0;32m    325\u001b[0m     \u001b[1;32mdef\u001b[0m \u001b[0mset_wavelengths\u001b[0m\u001b[1;33m(\u001b[0m\u001b[0mself\u001b[0m\u001b[1;33m,\u001b[0m \u001b[0mwstart\u001b[0m\u001b[1;33m=\u001b[0m\u001b[1;32mNone\u001b[0m\u001b[1;33m,\u001b[0m \u001b[0mwend\u001b[0m\u001b[1;33m=\u001b[0m\u001b[1;32mNone\u001b[0m\u001b[1;33m,\u001b[0m \u001b[0mwstep\u001b[0m\u001b[1;33m=\u001b[0m\u001b[1;32mNone\u001b[0m\u001b[1;33m)\u001b[0m\u001b[1;33m:\u001b[0m\u001b[1;33m\u001b[0m\u001b[0m\n",
      "\u001b[1;32mC:\\Anaconda3\\lib\\site-packages\\pyvisa\\resources\\messagebased.py\u001b[0m in \u001b[0;36mwrite\u001b[1;34m(self, message, termination, encoding)\u001b[0m\n\u001b[0;32m    182\u001b[0m             \u001b[0mmessage\u001b[0m \u001b[1;33m+=\u001b[0m \u001b[0mterm\u001b[0m\u001b[1;33m\u001b[0m\u001b[0m\n\u001b[0;32m    183\u001b[0m \u001b[1;33m\u001b[0m\u001b[0m\n\u001b[1;32m--> 184\u001b[1;33m         \u001b[0mcount\u001b[0m \u001b[1;33m=\u001b[0m \u001b[0mself\u001b[0m\u001b[1;33m.\u001b[0m\u001b[0mwrite_raw\u001b[0m\u001b[1;33m(\u001b[0m\u001b[0mmessage\u001b[0m\u001b[1;33m.\u001b[0m\u001b[0mencode\u001b[0m\u001b[1;33m(\u001b[0m\u001b[0menco\u001b[0m\u001b[1;33m)\u001b[0m\u001b[1;33m)\u001b[0m\u001b[1;33m\u001b[0m\u001b[0m\n\u001b[0m\u001b[0;32m    185\u001b[0m \u001b[1;33m\u001b[0m\u001b[0m\n\u001b[0;32m    186\u001b[0m         \u001b[1;32mreturn\u001b[0m \u001b[0mcount\u001b[0m\u001b[1;33m\u001b[0m\u001b[0m\n",
      "\u001b[1;32mC:\\Anaconda3\\lib\\site-packages\\pyvisa\\resources\\messagebased.py\u001b[0m in \u001b[0;36mwrite_raw\u001b[1;34m(self, message)\u001b[0m\n\u001b[0;32m    160\u001b[0m         \u001b[1;33m:\u001b[0m\u001b[0mrtype\u001b[0m\u001b[1;33m:\u001b[0m \u001b[0mint\u001b[0m\u001b[1;33m\u001b[0m\u001b[0m\n\u001b[0;32m    161\u001b[0m         \"\"\"\n\u001b[1;32m--> 162\u001b[1;33m         \u001b[1;32mreturn\u001b[0m \u001b[0mself\u001b[0m\u001b[1;33m.\u001b[0m\u001b[0mvisalib\u001b[0m\u001b[1;33m.\u001b[0m\u001b[0mwrite\u001b[0m\u001b[1;33m(\u001b[0m\u001b[0mself\u001b[0m\u001b[1;33m.\u001b[0m\u001b[0msession\u001b[0m\u001b[1;33m,\u001b[0m \u001b[0mmessage\u001b[0m\u001b[1;33m)\u001b[0m\u001b[1;33m\u001b[0m\u001b[0m\n\u001b[0m\u001b[0;32m    163\u001b[0m \u001b[1;33m\u001b[0m\u001b[0m\n\u001b[0;32m    164\u001b[0m     \u001b[1;32mdef\u001b[0m \u001b[0mwrite\u001b[0m\u001b[1;33m(\u001b[0m\u001b[0mself\u001b[0m\u001b[1;33m,\u001b[0m \u001b[0mmessage\u001b[0m\u001b[1;33m,\u001b[0m \u001b[0mtermination\u001b[0m\u001b[1;33m=\u001b[0m\u001b[1;32mNone\u001b[0m\u001b[1;33m,\u001b[0m \u001b[0mencoding\u001b[0m\u001b[1;33m=\u001b[0m\u001b[1;32mNone\u001b[0m\u001b[1;33m)\u001b[0m\u001b[1;33m:\u001b[0m\u001b[1;33m\u001b[0m\u001b[0m\n",
      "\u001b[1;32mC:\\Anaconda3\\lib\\site-packages\\pyvisa\\resources\\resource.py\u001b[0m in \u001b[0;36msession\u001b[1;34m(self)\u001b[0m\n\u001b[0;32m     72\u001b[0m         \"\"\"\n\u001b[0;32m     73\u001b[0m         \u001b[1;32mif\u001b[0m \u001b[0mself\u001b[0m\u001b[1;33m.\u001b[0m\u001b[0m_session\u001b[0m \u001b[1;32mis\u001b[0m \u001b[1;32mNone\u001b[0m\u001b[1;33m:\u001b[0m\u001b[1;33m\u001b[0m\u001b[0m\n\u001b[1;32m---> 74\u001b[1;33m             \u001b[1;32mraise\u001b[0m \u001b[0merrors\u001b[0m\u001b[1;33m.\u001b[0m\u001b[0mInvalidSession\u001b[0m\u001b[1;33m(\u001b[0m\u001b[1;33m)\u001b[0m\u001b[1;33m\u001b[0m\u001b[0m\n\u001b[0m\u001b[0;32m     75\u001b[0m         \u001b[1;32mreturn\u001b[0m \u001b[0mself\u001b[0m\u001b[1;33m.\u001b[0m\u001b[0m_session\u001b[0m\u001b[1;33m\u001b[0m\u001b[0m\n\u001b[0;32m     76\u001b[0m \u001b[1;33m\u001b[0m\u001b[0m\n",
      "\u001b[1;31mInvalidSession\u001b[0m: Invalid session handle. The resource might be closed."
     ]
    }
   ],
   "source": [
    "ports = ['COM' + str(i + 1) for i in range(256)]\n",
    "result = []\n",
    "for port in ports:\n",
    "    try:\n",
    "        s = serial.Serial(port)\n",
    "        s.close()\n",
    "        result.append(port)\n",
    "    except (OSError, serial.SerialException):\n",
    "        pass\n",
    "\n",
    "cv_tests = []\n",
    "cv_tests.append(p42.cv_test(\"test\", mono = \"COM1\"))\n",
    "\n",
    "vstep_slider = widgets.FloatSlider(min=0.1, max=2, step=0.1, value=1)\n",
    "vstart_slider = widgets.IntSlider(min=-30, max=30, value=0)\n",
    "vend_slider = widgets.IntSlider(min=-30, max=30, value=2)\n",
    "\n",
    "wstep_slider = widgets.IntSlider(min=50, max=500, step=50, value=250)\n",
    "wstart_slider = widgets.IntSlider(min=3000, max=8000, step=100, value=5000)\n",
    "wend_slider = widgets.IntSlider(min=3000, max=8000, step=100, value=5500)\n",
    "\n",
    "start_button = widgets.Button(description=\"Run test\")\n",
    "\n",
    "com_select = widgets.Dropdown(options=result, description = \"Monochromator port\")\n",
    "length_menu = widgets.Dropdown(options=[\"0\", \"1.5\", \"3\"], description=\"Cable Length\", value = \"1.5\")\n",
    "\n",
    "single_w = widgets.Checkbox(description=\"Single Wavelength:\", value=False)\n",
    "single_w_slider = widgets.IntSlider(description=\"Wavelength\",min=300, max=8000, step=100, value=5500)\n",
    "\n",
    "def sw(x):\n",
    "    cv_tests[0].single_w_val=x\n",
    "\n",
    "def sl(l):\n",
    "    cv_tests[0].length=l\n",
    "    \n",
    "def com(c):\n",
    "    cv_tests[0].mono=c\n",
    "    print(cv_tests[0].mono)\n",
    "\n",
    "vstep_slider.description = \"Voltage Step\"\n",
    "vstart_slider.description = \"Start Voltage\"\n",
    "vend_slider.description = \"End Voltage \"\n",
    "\n",
    "wstep_slider.description = \"Wavelength Step\"\n",
    "wstart_slider.description = \"Start Wavelength\"\n",
    "wend_slider.description = \"End Wavelength\"\n",
    "\n",
    "v1 = widgets.interactive(cv_tests[0].set_vrange, vstart=vstart_slider, vend=vend_slider, vstep=vstep_slider)\n",
    "\n",
    "w1 = widgets.interactive(cv_tests[0].set_wavelengths, wstart=wstart_slider, wend=wend_slider, wstep=wstep_slider)\n",
    "w2 = widgets.interactive(sw, x=single_w_slider)\n",
    "\n",
    "l1 =widgets.interactive(sl, l=length_menu)\n",
    "c1 =widgets.interactive(com, c=com_select)\n",
    "\n",
    "page1 = widgets.Box(children=[v1])\n",
    "page2 = widgets.Box(children=[single_w, w1, w2])\n",
    "page3 = widgets.VBox(children=[length_menu, com_select])\n",
    "page3.border_width = 20\n",
    "page3.border_color = \"white\"\n",
    "\n",
    "tabs = widgets.Tab(children=[page1, page2, page3])\n",
    "\n",
    "display(tabs)\n",
    "display(start_button)\n",
    "tabs.set_title(0, 'Voltage Range')\n",
    "tabs.set_title(1, 'Wavelength Range')\n",
    "tabs.set_title(2, 'Compensations')\n",
    "\n",
    "w1.visible=True\n",
    "w2.visible=False\n",
    "\n",
    "def one_or_many(name, value):\n",
    "    if value:\n",
    "        w1.visible = False\n",
    "        w2.visible = True\n",
    "        cv_tests[0].wrange_set = False\n",
    "        \n",
    "    else:\n",
    "        w1.visible = True\n",
    "        w2.visible = False\n",
    "        cv_tests[0].wrange_set = True\n",
    "\n",
    "started = False\n",
    "\n",
    "def start_test(name):\n",
    "    if not started:\n",
    "        cv_tests[0].test_setup = False\n",
    "        cv_tests[0].run_test()     \n",
    "\n",
    "single_w.on_trait_change(one_or_many, 'value')\n",
    "start_button.on_click(start_test)"
   ]
  },
  {
   "cell_type": "code",
   "execution_count": null,
   "metadata": {
    "collapsed": true
   },
   "outputs": [],
   "source": []
  },
  {
   "cell_type": "code",
   "execution_count": null,
   "metadata": {
    "collapsed": true
   },
   "outputs": [],
   "source": []
  }
 ],
 "metadata": {
  "kernelspec": {
   "display_name": "Python 3",
   "language": "python",
   "name": "python3"
  },
  "language_info": {
   "codemirror_mode": {
    "name": "ipython",
    "version": 3
   },
   "file_extension": ".py",
   "mimetype": "text/x-python",
   "name": "python",
   "nbconvert_exporter": "python",
   "pygments_lexer": "ipython3",
   "version": "3.4.1"
  }
 },
 "nbformat": 4,
 "nbformat_minor": 0
}
